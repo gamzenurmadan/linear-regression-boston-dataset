{
  "cells": [
    {
      "cell_type": "markdown",
      "metadata": {
        "id": "view-in-github",
        "colab_type": "text"
      },
      "source": [
        "<a href=\"https://colab.research.google.com/github/gamzenurmadan/linear-regression-boston-dataset/blob/main/260201084_HW1.ipynb\" target=\"_parent\"><img src=\"https://colab.research.google.com/assets/colab-badge.svg\" alt=\"Open In Colab\"/></a>"
      ]
    },
    {
      "cell_type": "markdown",
      "id": "acbf649c",
      "metadata": {
        "id": "acbf649c"
      },
      "source": [
        "# Homework #1   Due date: 27 October 2022, 11:59 PM"
      ]
    },
    {
      "cell_type": "markdown",
      "id": "53be3fbb",
      "metadata": {
        "id": "53be3fbb"
      },
      "source": [
        "## Q1) One feature regression for Boston data. \n",
        "Choose one of the features in Boston data, try to select one that is mostly correlated (or inversely correlated) with the target. Fit a line with linear regression (you can use built-in LinearRegression() method). What is the equation of the fitting line? Please plot your data points (chosen feature vs. target) and plot your fitting line on it."
      ]
    },
    {
      "cell_type": "code",
      "execution_count": null,
      "id": "b2472d55",
      "metadata": {
        "id": "b2472d55",
        "colab": {
          "base_uri": "https://localhost:8080/"
        },
        "outputId": "cc7b3579-03fc-4ae3-c57b-ce02696dcd9b"
      },
      "outputs": [
        {
          "output_type": "stream",
          "name": "stdout",
          "text": [
            "             CRIM        ZN     INDUS      CHAS       NOX        RM       AGE  \\\n",
            "CRIM     1.000000 -0.200469  0.406583 -0.055892  0.420972 -0.219247  0.352734   \n",
            "ZN      -0.200469  1.000000 -0.533828 -0.042697 -0.516604  0.311991 -0.569537   \n",
            "INDUS    0.406583 -0.533828  1.000000  0.062938  0.763651 -0.391676  0.644779   \n",
            "CHAS    -0.055892 -0.042697  0.062938  1.000000  0.091203  0.091251  0.086518   \n",
            "NOX      0.420972 -0.516604  0.763651  0.091203  1.000000 -0.302188  0.731470   \n",
            "RM      -0.219247  0.311991 -0.391676  0.091251 -0.302188  1.000000 -0.240265   \n",
            "AGE      0.352734 -0.569537  0.644779  0.086518  0.731470 -0.240265  1.000000   \n",
            "DIS     -0.379670  0.664408 -0.708027 -0.099176 -0.769230  0.205246 -0.747881   \n",
            "RAD      0.625505 -0.311948  0.595129 -0.007368  0.611441 -0.209847  0.456022   \n",
            "TAX      0.582764 -0.314563  0.720760 -0.035587  0.668023 -0.292048  0.506456   \n",
            "PTRATIO  0.289946 -0.391679  0.383248 -0.121515  0.188933 -0.355501  0.261515   \n",
            "B       -0.385064  0.175520 -0.356977  0.048788 -0.380051  0.128069 -0.273534   \n",
            "LSTAT    0.455621 -0.412995  0.603800 -0.053929  0.590879 -0.613808  0.602339   \n",
            "target  -0.388305  0.360445 -0.483725  0.175260 -0.427321  0.695360 -0.376955   \n",
            "\n",
            "              DIS       RAD       TAX   PTRATIO         B     LSTAT    target  \n",
            "CRIM    -0.379670  0.625505  0.582764  0.289946 -0.385064  0.455621 -0.388305  \n",
            "ZN       0.664408 -0.311948 -0.314563 -0.391679  0.175520 -0.412995  0.360445  \n",
            "INDUS   -0.708027  0.595129  0.720760  0.383248 -0.356977  0.603800 -0.483725  \n",
            "CHAS    -0.099176 -0.007368 -0.035587 -0.121515  0.048788 -0.053929  0.175260  \n",
            "NOX     -0.769230  0.611441  0.668023  0.188933 -0.380051  0.590879 -0.427321  \n",
            "RM       0.205246 -0.209847 -0.292048 -0.355501  0.128069 -0.613808  0.695360  \n",
            "AGE     -0.747881  0.456022  0.506456  0.261515 -0.273534  0.602339 -0.376955  \n",
            "DIS      1.000000 -0.494588 -0.534432 -0.232471  0.291512 -0.496996  0.249929  \n",
            "RAD     -0.494588  1.000000  0.910228  0.464741 -0.444413  0.488676 -0.381626  \n",
            "TAX     -0.534432  0.910228  1.000000  0.460853 -0.441808  0.543993 -0.468536  \n",
            "PTRATIO -0.232471  0.464741  0.460853  1.000000 -0.177383  0.374044 -0.507787  \n",
            "B        0.291512 -0.444413 -0.441808 -0.177383  1.000000 -0.366087  0.333461  \n",
            "LSTAT   -0.496996  0.488676  0.543993  0.374044 -0.366087  1.000000 -0.737663  \n",
            "target   0.249929 -0.381626 -0.468536 -0.507787  0.333461 -0.737663  1.000000  \n"
          ]
        },
        {
          "output_type": "stream",
          "name": "stderr",
          "text": [
            "/usr/local/lib/python3.7/dist-packages/sklearn/utils/deprecation.py:87: FutureWarning: Function load_boston is deprecated; `load_boston` is deprecated in 1.0 and will be removed in 1.2.\n",
            "\n",
            "    The Boston housing prices dataset has an ethical problem. You can refer to\n",
            "    the documentation of this function for further details.\n",
            "\n",
            "    The scikit-learn maintainers therefore strongly discourage the use of this\n",
            "    dataset unless the purpose of the code is to study and educate about\n",
            "    ethical issues in data science and machine learning.\n",
            "\n",
            "    In this special case, you can fetch the dataset from the original\n",
            "    source::\n",
            "\n",
            "        import pandas as pd\n",
            "        import numpy as np\n",
            "\n",
            "\n",
            "        data_url = \"http://lib.stat.cmu.edu/datasets/boston\"\n",
            "        raw_df = pd.read_csv(data_url, sep=\"\\s+\", skiprows=22, header=None)\n",
            "        data = np.hstack([raw_df.values[::2, :], raw_df.values[1::2, :2]])\n",
            "        target = raw_df.values[1::2, 2]\n",
            "\n",
            "    Alternative datasets include the California housing dataset (i.e.\n",
            "    :func:`~sklearn.datasets.fetch_california_housing`) and the Ames housing\n",
            "    dataset. You can load the datasets as follows::\n",
            "\n",
            "        from sklearn.datasets import fetch_california_housing\n",
            "        housing = fetch_california_housing()\n",
            "\n",
            "    for the California housing dataset and::\n",
            "\n",
            "        from sklearn.datasets import fetch_openml\n",
            "        housing = fetch_openml(name=\"house_prices\", as_frame=True)\n",
            "\n",
            "    for the Ames housing dataset.\n",
            "    \n",
            "  warnings.warn(msg, category=FutureWarning)\n"
          ]
        }
      ],
      "source": [
        "#Imports\n",
        "from sklearn.datasets import load_boston\n",
        "import pandas as pd\n",
        "import numpy as np\n",
        "import matplotlib.pyplot as plt \n",
        "from sklearn.linear_model import LinearRegression #for Q2\n",
        "from sklearn.model_selection import train_test_split #for Q3\n",
        "\n",
        "#Loading data\n",
        "boston_dataset = load_boston()\n",
        "\n",
        "#Loading data into a dataframe to check correlation\n",
        "boston_df = pd.DataFrame(data=np.c_[boston_dataset['data'], boston_dataset['target']],columns= list(boston_dataset['feature_names']) + ['target'])\n",
        "\n",
        "cor_matrix = boston_df.corr() \n",
        "print(cor_matrix)  #as a result, I chose LSTAT since it is mostly inversely correlated with the target.\n"
      ]
    },
    {
      "cell_type": "code",
      "execution_count": null,
      "id": "08efeb9d",
      "metadata": {
        "id": "08efeb9d",
        "colab": {
          "base_uri": "https://localhost:8080/"
        },
        "outputId": "6d16fdc1-25da-4efc-d61b-0349113c7d80"
      },
      "outputs": [
        {
          "output_type": "stream",
          "name": "stdout",
          "text": [
            "interception theta_0: 34.5538408793831\n",
            "coefficient theta_i: [-0.95004935]\n",
            "Equation of the fitting line: \ry= 34.5538408793831 + -0.9500493537579906 x\n"
          ]
        }
      ],
      "source": [
        "#finding equation of the fitting line\n",
        "\n",
        "X = np.array(boston_df['LSTAT']).reshape((-1, 1)) #reshaping because fit() needs 2d array\n",
        "y = boston_df['target']\n",
        "\n",
        "model = LinearRegression() #linear regression model\n",
        "model.fit(X,y)\n",
        "#for the equation of the fitting line\n",
        "interception = model.intercept_\n",
        "coefficient = model.coef_\n",
        "\n",
        "print(\"interception theta_0:\", interception)\n",
        "print(\"coefficient theta_i:\", coefficient)\n",
        "\n",
        "print(\"Equation of the fitting line: \\ry=\", interception, \"+\" ,coefficient[0],\"x\")"
      ]
    },
    {
      "cell_type": "code",
      "execution_count": null,
      "id": "ee5d537c",
      "metadata": {
        "id": "ee5d537c",
        "colab": {
          "base_uri": "https://localhost:8080/",
          "height": 279
        },
        "outputId": "253fced2-db73-485a-bb3f-8ade3f100b95"
      },
      "outputs": [
        {
          "output_type": "display_data",
          "data": {
            "text/plain": [
              "<Figure size 432x288 with 1 Axes>"
            ],
            "image/png": "[encoded data removed]"
          },
          "metadata": {
            "needs_background": "light"
          }
        }
      ],
      "source": [
        "#plotting data points and fitting line\n",
        "f = lambda x: coefficient[0] * x + interception\n",
        "steps = list(np.arange(0,40,.25))\n",
        "fitline = list(map(f, steps))\n",
        "plt.plot(steps, fitline, color='purple')\n",
        "plt.scatter(x=X, y=y)\n",
        "plt.xlabel('LSTAT')\n",
        "plt.ylabel('target')\n",
        "plt.show()"
      ]
    },
    {
      "cell_type": "markdown",
      "id": "4e0787fa",
      "metadata": {
        "id": "4e0787fa"
      },
      "source": [
        "## Q2) Another metric for performance evaluation\n",
        "We have seen that LinearRegression() by *sklearn* provides a method called *score* which outputs a value with a maximum of 1 (the larger the better), which is good to evaluate the performance. \n",
        "Another common performance metric is mean sum of squared error (MSE):\n",
        "\n",
        "$$\\frac{1}{m} \\sum_{i=1}^m \\left(\\underbrace{\\theta^T x^{(i)}}_{\\text{Prediction}} - \\underbrace{y^{(i)}}_{\\text{Target}}\\right)^2$$\n",
        "\n",
        "Please implement this metric and compute it when Boston data with all features are used. lr.score gave 0.74. What is the MSE?\n",
        "\n",
        "Important restriction: Do NOT use *mean_squared_error* module from *sklearn.metrics*."
      ]
    },
    {
      "cell_type": "code",
      "execution_count": null,
      "id": "cb3b861c",
      "metadata": {
        "id": "cb3b861c"
      },
      "outputs": [],
      "source": [
        "#defining mse with the equation up there\n",
        "def mse(target, prediction):\n",
        "  target = np.array(target)\n",
        "  prediction = np.array(prediction)\n",
        "  subtraction = np.subtract(target, prediction)\n",
        "  squared_substraction = np.square(subtraction)\n",
        "  result = squared_substraction.mean()\n",
        "  return result"
      ]
    },
    {
      "cell_type": "code",
      "source": [
        "#Calculation of the features' mse value, I made a mistake before in my submitted homework, I calculated all the features seperately.\n",
        "\n",
        "x_all = boston_dataset['data'] #corrected the mistake in here with taking all the feature in one variable.\n",
        "model.fit(x_all, y)   #I did define target \"y\" before, so I'll use it here again\n",
        "all_predicted = model.predict(x_all)\n",
        "\n",
        "print(mse(y, all_predicted))"
      ],
      "metadata": {
        "colab": {
          "base_uri": "https://localhost:8080/"
        },
        "id": "xAiS4MvqErX7",
        "outputId": "f0e63d5e-0000-418a-bd55-a6cc663e4110"
      },
      "id": "xAiS4MvqErX7",
      "execution_count": null,
      "outputs": [
        {
          "output_type": "stream",
          "name": "stdout",
          "text": [
            "21.894831181729202\n"
          ]
        }
      ]
    },
    {
      "cell_type": "markdown",
      "id": "608e9591",
      "metadata": {
        "id": "608e9591"
      },
      "source": [
        "## Q3) Splitting the dataset\n",
        "In the lecture we did training and evaluation (score) on the whole Boston dataset. This is bad. Use the code in Week 1 Python Notebook to:\n",
        "- shuffle the data,\n",
        "- select 60% of the data as a training set (do the line fitting), 40% as a test set,\n",
        "- what is the score on the test data?\n",
        "- what is the mean squared error?"
      ]
    },
    {
      "cell_type": "code",
      "execution_count": null,
      "id": "ee8a2e74",
      "metadata": {
        "id": "ee8a2e74",
        "colab": {
          "base_uri": "https://localhost:8080/"
        },
        "outputId": "324e9826-05a2-44f2-f1de-d8de005d0967"
      },
      "outputs": [
        {
          "output_type": "execute_result",
          "data": {
            "text/plain": [
              "LinearRegression()"
            ]
          },
          "metadata": {},
          "execution_count": 10
        }
      ],
      "source": [
        "#shuffling and splitting the data\n",
        "X_train, X_test, y_train, y_test = train_test_split(boston_dataset['data'], boston_dataset['target'], test_size=0.4 ,random_state=42) #stating random state more than 0 to get the same results always\n",
        "\n",
        "model.fit(X_train, y_train) #training"
      ]
    },
    {
      "cell_type": "code",
      "execution_count": null,
      "id": "63ab6ba3",
      "metadata": {
        "id": "63ab6ba3",
        "colab": {
          "base_uri": "https://localhost:8080/"
        },
        "outputId": "66698481-736e-4693-f522-6dc5cb8493ee"
      },
      "outputs": [
        {
          "output_type": "execute_result",
          "data": {
            "text/plain": [
              "0.712514093611121"
            ]
          },
          "metadata": {},
          "execution_count": 11
        }
      ],
      "source": [
        "#score on the test data\n",
        "model.score(X_test, y_test)"
      ]
    },
    {
      "cell_type": "code",
      "execution_count": null,
      "id": "49a15a2f",
      "metadata": {
        "id": "49a15a2f",
        "colab": {
          "base_uri": "https://localhost:8080/"
        },
        "outputId": "8d0e14ed-6606-45eb-8eb2-15e1cf53b781"
      },
      "outputs": [
        {
          "output_type": "stream",
          "name": "stdout",
          "text": [
            "21.832709989577538\n"
          ]
        }
      ],
      "source": [
        "#calculating the mean squared error\n",
        "y_predicted = model.predict(X_test)\n",
        "print(mse(y_test, y_predicted))"
      ]
    }
  ],
  "metadata": {
    "kernelspec": {
      "display_name": "Python 3 (ipykernel)",
      "language": "python",
      "name": "python3"
    },
    "language_info": {
      "codemirror_mode": {
        "name": "ipython",
        "version": 3
      },
      "file_extension": ".py",
      "mimetype": "text/x-python",
      "name": "python",
      "nbconvert_exporter": "python",
      "pygments_lexer": "ipython3",
      "version": "3.8.10"
    },
    "colab": {
      "provenance": [],
      "include_colab_link": true
    }
  },
  "nbformat": 4,
  "nbformat_minor": 5
}